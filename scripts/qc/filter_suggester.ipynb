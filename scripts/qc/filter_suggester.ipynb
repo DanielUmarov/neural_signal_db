{
 "cells": [
  {
   "cell_type": "markdown",
   "id": "ece299d7",
   "metadata": {},
   "source": [
    "# Filter Suggester\n",
    "\n",
    "This notebook reads per-file QC summaries written by `eeg_qc_metrics.py`,\n",
    "then proposes **notch** and **band-pass** settings with transparent, editable rules.\n",
    "\n",
    "**Expected layout** (run the QC script first):\n",
    "- `quality_control/<stem>/<stem>_qc_summary.json`\n",
    "- `quality_control/<stem>/<stem>_qc_metrics.csv`\n",
    "- `quality_control/combined_qc_summary.csv`\n"
   ]
  },
  {
   "cell_type": "code",
   "execution_count": 1,
   "id": "bc4cfe71",
   "metadata": {},
   "outputs": [
    {
     "name": "stdout",
     "output_type": "stream",
     "text": [
      "Found summaries: 0\n"
     ]
    },
    {
     "data": {
      "text/plain": [
       "WindowsPath('C:/Users/rjrie/Documents/neural_signal_db/scripts/qc/quality_control')"
      ]
     },
     "execution_count": 1,
     "metadata": {},
     "output_type": "execute_result"
    }
   ],
   "source": [
    "import json\n",
    "from pathlib import Path\n",
    "import pandas as pd\n",
    "\n",
    "PROJECT = Path.cwd().resolve()          # open the notebook at repo root\n",
    "OUTDIR  = PROJECT / 'quality_control'   # where the script wrote results\n",
    "\n",
    "summaries = sorted(OUTDIR.rglob('*_qc_summary.json'))\n",
    "print('Found summaries:', len(summaries))\n",
    "OUTDIR"
   ]
  },
  {
   "cell_type": "code",
   "execution_count": 4,
   "id": "b906429e",
   "metadata": {},
   "outputs": [
    {
     "ename": "KeyError",
     "evalue": "'stem'",
     "output_type": "error",
     "traceback": [
      "\u001b[31m---------------------------------------------------------------------------\u001b[39m",
      "\u001b[31mKeyError\u001b[39m                                  Traceback (most recent call last)",
      "\u001b[32m~\\AppData\\Local\\Temp\\ipykernel_31680\\754040758.py\u001b[39m in \u001b[36m?\u001b[39m\u001b[34m()\u001b[39m\n\u001b[32m     10\u001b[39m         \u001b[33m'high_variance_channels'\u001b[39m: s.get(\u001b[33m'high_variance_channels'\u001b[39m, []),\n\u001b[32m     11\u001b[39m         \u001b[33m'n_channels'\u001b[39m: s.get(\u001b[33m'n_channels'\u001b[39m, \u001b[38;5;28;01mNone\u001b[39;00m),\n\u001b[32m     12\u001b[39m         \u001b[33m'bandpass_hint_hz'\u001b[39m: s.get(\u001b[33m'bandpass_hint_hz'\u001b[39m, [\u001b[32m1.0\u001b[39m, \u001b[32m40.0\u001b[39m]),\n\u001b[32m     13\u001b[39m     })\n\u001b[32m---> \u001b[39m\u001b[32m14\u001b[39m df = pd.DataFrame(rows).sort_values(\u001b[33m'stem'\u001b[39m).reset_index(drop=\u001b[38;5;28;01mTrue\u001b[39;00m)\n\u001b[32m     15\u001b[39m df\n",
      "\u001b[32mc:\\Users\\rjrie\\AppData\\Local\\Programs\\Python\\Python313\\Lib\\site-packages\\pandas\\core\\frame.py\u001b[39m in \u001b[36m?\u001b[39m\u001b[34m(self, by, axis, ascending, inplace, kind, na_position, ignore_index, key)\u001b[39m\n\u001b[32m   7185\u001b[39m             )\n\u001b[32m   7186\u001b[39m         \u001b[38;5;28;01melif\u001b[39;00m len(by):\n\u001b[32m   7187\u001b[39m             \u001b[38;5;66;03m# len(by) == 1\u001b[39;00m\n\u001b[32m   7188\u001b[39m \n\u001b[32m-> \u001b[39m\u001b[32m7189\u001b[39m             k = self._get_label_or_level_values(by[\u001b[32m0\u001b[39m], axis=axis)\n\u001b[32m   7190\u001b[39m \n\u001b[32m   7191\u001b[39m             \u001b[38;5;66;03m# need to rewrap column in Series to apply key function\u001b[39;00m\n\u001b[32m   7192\u001b[39m             \u001b[38;5;28;01mif\u001b[39;00m key \u001b[38;5;28;01mis\u001b[39;00m \u001b[38;5;28;01mnot\u001b[39;00m \u001b[38;5;28;01mNone\u001b[39;00m:\n",
      "\u001b[32mc:\\Users\\rjrie\\AppData\\Local\\Programs\\Python\\Python313\\Lib\\site-packages\\pandas\\core\\generic.py\u001b[39m in \u001b[36m?\u001b[39m\u001b[34m(self, key, axis)\u001b[39m\n\u001b[32m   1907\u001b[39m             values = self.xs(key, axis=other_axes[\u001b[32m0\u001b[39m])._values\n\u001b[32m   1908\u001b[39m         \u001b[38;5;28;01melif\u001b[39;00m self._is_level_reference(key, axis=axis):\n\u001b[32m   1909\u001b[39m             values = self.axes[axis].get_level_values(key)._values\n\u001b[32m   1910\u001b[39m         \u001b[38;5;28;01melse\u001b[39;00m:\n\u001b[32m-> \u001b[39m\u001b[32m1911\u001b[39m             \u001b[38;5;28;01mraise\u001b[39;00m KeyError(key)\n\u001b[32m   1912\u001b[39m \n\u001b[32m   1913\u001b[39m         \u001b[38;5;66;03m# Check for duplicates\u001b[39;00m\n\u001b[32m   1914\u001b[39m         \u001b[38;5;28;01mif\u001b[39;00m values.ndim > \u001b[32m1\u001b[39m:\n",
      "\u001b[31mKeyError\u001b[39m: 'stem'"
     ]
    }
   ],
   "source": [
    "rows = []\n",
    "for js in summaries:\n",
    "    with open(js, 'r') as f:\n",
    "        s = json.load(f)\n",
    "    rows.append({\n",
    "        'stem': s['stem'],\n",
    "        'summary_json': str(js),\n",
    "        'suggested_notch_freqs': s.get('suggested_notch_freqs', []),\n",
    "        'flat_channels': s.get('flat_channels', []),\n",
    "        'high_variance_channels': s.get('high_variance_channels', []),\n",
    "        'n_channels': s.get('n_channels', None),\n",
    "        'bandpass_hint_hz': s.get('bandpass_hint_hz', [1.0, 40.0]),\n",
    "    })\n",
    "df = pd.DataFrame(rows).sort_values('stem').reset_index(drop=True)\n",
    "df"
   ]
  },
  {
   "cell_type": "markdown",
   "id": "2c3bb1c0",
   "metadata": {},
   "source": [
    "## Rule-based proposals\n",
    "\n",
    "Rules (edit as needed):\n",
    "- **Notch**: If summaries show only 50 or only 60 Hz family, use that set of harmonics ≤ 70 Hz. If both/unclear, fall back to your site default.\n",
    "- **Band-pass**: Start with `[1.0, 40.0]` Hz. If many flat channels, reduce high-pass to `0.5` Hz. If many high-variance channels, raise high-pass to `1.5` Hz.\n"
   ]
  },
  {
   "cell_type": "code",
   "execution_count": 5,
   "id": "a1445b6e",
   "metadata": {},
   "outputs": [
    {
     "ename": "NameError",
     "evalue": "name 'df' is not defined",
     "output_type": "error",
     "traceback": [
      "\u001b[31m---------------------------------------------------------------------------\u001b[39m",
      "\u001b[31mNameError\u001b[39m                                 Traceback (most recent call last)",
      "\u001b[36mCell\u001b[39m\u001b[36m \u001b[39m\u001b[32mIn[5]\u001b[39m\u001b[32m, line 28\u001b[39m\n\u001b[32m     25\u001b[39m     \u001b[38;5;28;01mreturn\u001b[39;00m [\u001b[38;5;28mround\u001b[39m(l, \u001b[32m2\u001b[39m), h]\n\u001b[32m     27\u001b[39m props = []\n\u001b[32m---> \u001b[39m\u001b[32m28\u001b[39m \u001b[38;5;28;01mfor\u001b[39;00m _, r \u001b[38;5;129;01min\u001b[39;00m \u001b[43mdf\u001b[49m.iterrows():\n\u001b[32m     29\u001b[39m     notch = propose_notch(r[\u001b[33m'\u001b[39m\u001b[33msuggested_notch_freqs\u001b[39m\u001b[33m'\u001b[39m])\n\u001b[32m     30\u001b[39m     bp    = propose_bandpass(\u001b[38;5;28mlen\u001b[39m(r[\u001b[33m'\u001b[39m\u001b[33mflat_channels\u001b[39m\u001b[33m'\u001b[39m]), \u001b[38;5;28mlen\u001b[39m(r[\u001b[33m'\u001b[39m\u001b[33mhigh_variance_channels\u001b[39m\u001b[33m'\u001b[39m]), r[\u001b[33m'\u001b[39m\u001b[33mn_channels\u001b[39m\u001b[33m'\u001b[39m])\n",
      "\u001b[31mNameError\u001b[39m: name 'df' is not defined"
     ]
    }
   ],
   "source": [
    "FALLBACK_MAINS = 60  # change to 50 if your site uses 50 Hz\n",
    "MAX_FREQ = 70\n",
    "\n",
    "def expand_harmonics(base):\n",
    "    return [int(base*k) for k in range(1, int(MAX_FREQ//base)+1)]\n",
    "\n",
    "def propose_notch(suggested):\n",
    "    s = set(int(x) for x in suggested)\n",
    "    has50 = any(x % 50 == 0 for x in s)\n",
    "    has60 = any(x % 60 == 0 for x in s)\n",
    "    if has50 and not has60:\n",
    "        return expand_harmonics(50)\n",
    "    if has60 and not has50:\n",
    "        return expand_harmonics(60)\n",
    "    return expand_harmonics(FALLBACK_MAINS) if FALLBACK_MAINS in (50, 60) else []\n",
    "\n",
    "def propose_bandpass(n_flat, n_highvar, n_total, default=(1.0, 40.0)):\n",
    "    frac_flat = (n_flat / max(n_total, 1))\n",
    "    frac_high = (n_highvar / max(n_total, 1))\n",
    "    l, h = default\n",
    "    if frac_flat >= 0.10:\n",
    "        l = min(l, 0.5)\n",
    "    if frac_high >= 0.10:\n",
    "        l = max(l, 1.5)\n",
    "    return [round(l, 2), h]\n",
    "\n",
    "props = []\n",
    "for _, r in df.iterrows():\n",
    "    notch = propose_notch(r['suggested_notch_freqs'])\n",
    "    bp    = propose_bandpass(len(r['flat_channels']), len(r['high_variance_channels']), r['n_channels'])\n",
    "    props.append({\n",
    "        'stem': r['stem'],\n",
    "        'proposed_notch_freqs': notch,\n",
    "        'proposed_bandpass': bp,\n",
    "        'n_flat': len(r['flat_channels']),\n",
    "        'n_highvar': len(r['high_variance_channels']),\n",
    "        'n_channels': r['n_channels'],\n",
    "        'source_summary': r['summary_json'],\n",
    "    })\n",
    "props_df = pd.DataFrame(props).sort_values('stem').reset_index(drop=True)\n",
    "props_df"
   ]
  },
  {
   "cell_type": "code",
   "execution_count": null,
   "id": "01b969f6",
   "metadata": {},
   "outputs": [],
   "source": [
    "out_csv = OUTDIR / 'proposed_filters.csv'\n",
    "props_df.to_csv(out_csv, index=False)\n",
    "print('Saved ->', out_csv)\n",
    "out_csv"
   ]
  }
 ],
 "metadata": {
  "kernelspec": {
   "display_name": "Python 3",
   "language": "python",
   "name": "python3"
  },
  "language_info": {
   "codemirror_mode": {
    "name": "ipython",
    "version": 3
   },
   "file_extension": ".py",
   "mimetype": "text/x-python",
   "name": "python",
   "nbconvert_exporter": "python",
   "pygments_lexer": "ipython3",
   "version": "3.13.3"
  }
 },
 "nbformat": 4,
 "nbformat_minor": 5
}
